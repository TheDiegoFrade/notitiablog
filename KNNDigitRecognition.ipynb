{
 "cells": [
  {
   "cell_type": "code",
   "execution_count": 2,
   "metadata": {},
   "outputs": [],
   "source": [
    "import numpy as np\n",
    "import matplotlib.pyplot as plt\n",
    "from sklearn.neighbors import BallTree, KDTree\n",
    "import time\n",
    "#"
   ]
  },
  {
   "cell_type": "code",
   "execution_count": 4,
   "metadata": {},
   "outputs": [],
   "source": [
    "# #Training set\n",
    "train_data = np.load(r'C:\\Users\\diego\\Downloads\\train_data.npy')\n",
    "train_labels = np.load(r'C:\\Users\\diego\\Downloads\\train_labels.npy')\n",
    "#\n",
    "# #Test set\n",
    "test_data = np.load(r'C:\\Users\\diego\\Downloads\\test_data.npy')\n",
    "test_labels = np.load(r'C:\\Users\\diego\\Downloads\\test_labels.npy')"
   ]
  },
  {
   "cell_type": "code",
   "execution_count": 5,
   "metadata": {},
   "outputs": [
    {
     "name": "stdout",
     "output_type": "stream",
     "text": [
      "Number of training labels: 7500\n",
      "Number of testing labels: 1000\n"
     ]
    }
   ],
   "source": [
    "# #Print out their dimensions\n",
    "#print('Training dataset dimensions:', np.shape(train_data))\n",
    "print('Number of training labels:', len(train_labels))\n",
    "#print('Test dataset dimensions:', np.shape(test_data))\n",
    "print('Number of testing labels:', len(test_labels))"
   ]
  },
  {
   "cell_type": "code",
   "execution_count": 6,
   "metadata": {},
   "outputs": [],
   "source": [
    "# #Number of examples of each digit\n",
    "train_digits, train_counts = np.unique(train_labels,return_counts=True)\n",
    "#print('Training set distribution:')\n",
    "#print(dict(zip(train_digits,train_counts)))\n",
    "#\n",
    "test_digits, test_counts = np.unique(test_labels,return_counts=True)\n",
    "#print('Testing set distribution:')\n",
    "#print(dict(zip(test_digits,test_counts)))"
   ]
  },
  {
   "cell_type": "code",
   "execution_count": 8,
   "metadata": {},
   "outputs": [],
   "source": [
    "# #Define function that displays digit given its vector representation\n",
    "def show_digit(x):\n",
    "     plt.axis('off')\n",
    "     plt.imshow(x.reshape((28,28)),cmap= plt.cm.gray)\n",
    "     plt.show()\n",
    "     return\n",
    "#\n",
    "# #Define function that takes index into a particular data set(Train or test) and displays image\n",
    "def vis_image(index,dataset='train'):\n",
    "     if(dataset=='train'):\n",
    "         show_digit(train_data[index])\n",
    "         label = train_labels[index]\n",
    "     else:\n",
    "         show_digit(test_data[index])\n",
    "         label = test_labels[index]\n",
    "     print('Label '+ str(label))\n",
    "     return"
   ]
  },
  {
   "cell_type": "code",
   "execution_count": 9,
   "metadata": {},
   "outputs": [],
   "source": [
    "# #View the first data point in the training set\n",
    "#vis_image(4,'train')\n",
    "# #View the first data point in the testing set\n",
    "#vis_image(7,'train')\n",
    "#"
   ]
  },
  {
   "cell_type": "code",
   "execution_count": 10,
   "metadata": {},
   "outputs": [],
   "source": [
    "# #Computes squared Euclidean distance between two vectors\n",
    "def squared_dist(x,y):\n",
    "     return np.sum(np.square(x-y))\n",
    "# #Compute distance between seven and a one in our training set\n",
    "#print('Distance from 7 to 1: ', squared_dist(train_data[4,: ],train_data[5,: ]))\n",
    "#print('Distance from 7 to 2: ',squared_dist(train_data[4,],train_data[1,]))\n",
    "#print('Distance from 7 to 7: ',squared_dist(train_data[4,],train_data[7,]))\n",
    "#"
   ]
  },
  {
   "cell_type": "code",
   "execution_count": 11,
   "metadata": {},
   "outputs": [],
   "source": [
    "# #Computing nearest neighbors\n",
    "# #Takes a vector x and returns the index of its nearest neighbor in train_data\n",
    "# #Which will indicate the nearest number image in this case\n",
    "def find_NN(x):\n",
    "#Compute distances from x to every row in train_data\n",
    "     distances =[squared_dist(x,train_data[i,:]) for i in range(len(train_labels))]\n",
    "     return np.argmin(distances) #minimum distance\n",
    "#\n",
    "# #Takes a vector x and returns the class of its nearest neighbor in train_data\n",
    "def NN_classifier(x):\n",
    "     index = find_NN(x)\n",
    "     #Return its class\n",
    "     return train_labels[index]"
   ]
  },
  {
   "cell_type": "code",
   "execution_count": 12,
   "metadata": {},
   "outputs": [
    {
     "name": "stdout",
     "output_type": "stream",
     "text": [
      "A sucess case: \n",
      "NN classification:  0\n",
      "True label: 0\n",
      "The test image:\n"
     ]
    },
    {
     "data": {
      "image/png": "[encoded data removed]",
      "text/plain": [
       "<Figure size 432x288 with 1 Axes>"
      ]
     },
     "metadata": {},
     "output_type": "display_data"
    },
    {
     "name": "stdout",
     "output_type": "stream",
     "text": [
      "Label 0\n",
      "The corresponding nearest neighbor image:\n"
     ]
    },
    {
     "data": {
      "image/png": "[encoded data removed]",
      "text/plain": [
       "<Figure size 432x288 with 1 Axes>"
      ]
     },
     "metadata": {},
     "output_type": "display_data"
    },
    {
     "name": "stdout",
     "output_type": "stream",
     "text": [
      "Label 0\n"
     ]
    }
   ],
   "source": [
    "# ##A successful case\n",
    "print('A sucess case: ')\n",
    "print('NN classification: ', NN_classifier(test_data[0,]))\n",
    "print('True label:' , test_labels[0])\n",
    "print('The test image:')\n",
    "vis_image(0,'test')\n",
    "print('The corresponding nearest neighbor image:')\n",
    "vis_image(find_NN(test_data[0, ]),'train')"
   ]
  },
  {
   "cell_type": "code",
   "execution_count": null,
   "metadata": {},
   "outputs": [],
   "source": [
    "#\n",
    "#THERE ARE ALSO FAILURE CASES\n",
    "# # #1\n",
    "# # # ## Predict on each test data point (and time it!)\n",
    "# # # t_before = time.time()\n",
    "# # # test_predictions = [NN_classifier(test_data[i,]) for i in range(len(test_labels))]\n",
    "# # # t_after = time.time()\n",
    "# # #\n",
    "# # # ## Compute the error\n",
    "# # # err_positions = np.not_equal(test_predictions, test_labels)\n",
    "# # # error = float(np.sum(err_positions))/len(test_labels)\n",
    "# # #\n",
    "# # # print(\"Error of nearest neighbor classifier: \", error)\n",
    "# # # print(\"Classification time (seconds): \", t_after - t_before)\n",
    "# #\n",
    "# # #Faster\n",
    "# # #2\n",
    "# # #Build nearest neighbor structure on training data\n",
    "# # t_before = time.time()\n",
    "# # ball_tree = BallTree(train_data)\n",
    "# # t_after = time.time()\n",
    "# #\n",
    "# # #Compute training time\n",
    "# # t_training = t_after-t_before\n",
    "# # print('Time to build data structure(seconds):', t_training)\n",
    "# #\n",
    "# # #Get the nearest neighbors predictions on testing data\n",
    "# # t_before = time.time()\n",
    "# # test_neighbors = np.squeeze(ball_tree.query(test_data, k=1, return_distance=False))\n",
    "# # ball_tree_predictions = train_labels[test_neighbors]\n",
    "# # t_after = time.time()\n",
    "# #\n",
    "# # #Compute testing time\n",
    "# # t_testing = t_after-t_before\n",
    "# # print('Time to classify test set (seconds):', t_testing)\n",
    "# #\n",
    "# # #3\n",
    "# # ## Build nearest neighbor structure on training data\n",
    "# # t_before = time.time()\n",
    "# # kd_tree = KDTree(train_data)\n",
    "# # t_after = time.time()\n",
    "# #\n",
    "# # ## Compute training time\n",
    "# # t_training = t_after - t_before\n",
    "# # print(\"Time to build data structure (seconds): \", t_training)\n",
    "# #\n",
    "# # ## Get nearest neighbor predictions on testing data\n",
    "# # t_before = time.time()\n",
    "# # test_neighbors = np.squeeze(kd_tree.query(test_data, k=1, return_distance=False))\n",
    "# # kd_tree_predictions = train_labels[test_neighbors]\n",
    "# # t_after = time.time()\n",
    "# #\n",
    "# # ## Compute testing time\n",
    "# # t_testing = t_after - t_before\n",
    "# # print(\"Time to classify test set (seconds): \", t_testing)\n",
    "# #\n",
    "# # ## Verify that the predictions are the same\n",
    "# # print(\"KD tree produces same predictions as above? \", np.array_equal(kd_tree_predictions))\n",
    "# #"
   ]
  }
 ],
 "metadata": {
  "kernelspec": {
   "display_name": "Python 3",
   "language": "python",
   "name": "python3"
  },
  "language_info": {
   "codemirror_mode": {
    "name": "ipython",
    "version": 3
   },
   "file_extension": ".py",
   "mimetype": "text/x-python",
   "name": "python",
   "nbconvert_exporter": "python",
   "pygments_lexer": "ipython3",
   "version": "3.6.5"
  }
 },
 "nbformat": 4,
 "nbformat_minor": 2
}
